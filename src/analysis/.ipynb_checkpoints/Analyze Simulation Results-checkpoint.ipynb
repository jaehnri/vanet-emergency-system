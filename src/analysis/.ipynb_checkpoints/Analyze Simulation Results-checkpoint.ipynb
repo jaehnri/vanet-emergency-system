{
 "cells": [
  {
   "cell_type": "code",
   "execution_count": 1,
   "metadata": {},
   "outputs": [],
   "source": [
    "# ------------------------------------------------------------\n",
    "# ---------------- Data Manipulation -------------------------\n",
    "# ------------------------------------------------------------\n",
    "import pandas as pd\n",
    "\n",
    "# ------------------------------------------------------------\n",
    "# ---------------- Data Visualization ------------------------\n",
    "# ------------------------------------------------------------\n",
    "import matplotlib.pyplot as plt\n",
    "import seaborn as sns"
   ]
  },
  {
   "cell_type": "code",
   "execution_count": 2,
   "metadata": {},
   "outputs": [],
   "source": [
    "df = pd.read_csv('../scripts/simulations.csv')\n",
    "\n",
    "# Drop useless column\n",
    "df = df.drop('Unnamed: 0', axis=1)\n",
    "\n",
    "# Drop rows where the ambulance couldn't reach in less than 9 minutes\n",
    "df = df.drop(df[df.ambulance_arrival_time == -1].index)"
   ]
  },
  {
   "cell_type": "markdown",
   "metadata": {},
   "source": [
    "- TL: Traffic Lights prioritize ambulance's path\n",
    "- GL: Normal vehicles give lane to the ambulance\n",
    "- NH: ERU selects nearest hospital to send ambulance\n",
    "- FR: Full Responsive - Uses all of the strategies above\n",
    "- NA: None of the above"
   ]
  },
  {
   "cell_type": "code",
   "execution_count": 3,
   "metadata": {},
   "outputs": [
    {
     "data": {
      "text/html": [
       "<div>\n",
       "<style scoped>\n",
       "    .dataframe tbody tr th:only-of-type {\n",
       "        vertical-align: middle;\n",
       "    }\n",
       "\n",
       "    .dataframe tbody tr th {\n",
       "        vertical-align: top;\n",
       "    }\n",
       "\n",
       "    .dataframe thead th {\n",
       "        text-align: right;\n",
       "    }\n",
       "</style>\n",
       "<table border=\"1\" class=\"dataframe\">\n",
       "  <thead>\n",
       "    <tr style=\"text-align: right;\">\n",
       "      <th></th>\n",
       "      <th>iteration</th>\n",
       "      <th>can_change_lane</th>\n",
       "      <th>can_open_traffic</th>\n",
       "      <th>can_find_nearest_hospital</th>\n",
       "      <th>number_of_vehicles</th>\n",
       "      <th>ambulance_arrival_time</th>\n",
       "    </tr>\n",
       "  </thead>\n",
       "  <tbody>\n",
       "    <tr>\n",
       "      <th>0</th>\n",
       "      <td>#16</td>\n",
       "      <td>False</td>\n",
       "      <td>False</td>\n",
       "      <td>False</td>\n",
       "      <td>225</td>\n",
       "      <td>186</td>\n",
       "    </tr>\n",
       "    <tr>\n",
       "      <th>1</th>\n",
       "      <td>#6</td>\n",
       "      <td>False</td>\n",
       "      <td>True</td>\n",
       "      <td>False</td>\n",
       "      <td>506</td>\n",
       "      <td>302</td>\n",
       "    </tr>\n",
       "    <tr>\n",
       "      <th>2</th>\n",
       "      <td>#3</td>\n",
       "      <td>False</td>\n",
       "      <td>True</td>\n",
       "      <td>False</td>\n",
       "      <td>225</td>\n",
       "      <td>95</td>\n",
       "    </tr>\n",
       "    <tr>\n",
       "      <th>3</th>\n",
       "      <td>#21</td>\n",
       "      <td>False</td>\n",
       "      <td>True</td>\n",
       "      <td>False</td>\n",
       "      <td>225</td>\n",
       "      <td>93</td>\n",
       "    </tr>\n",
       "    <tr>\n",
       "      <th>4</th>\n",
       "      <td>#23</td>\n",
       "      <td>False</td>\n",
       "      <td>False</td>\n",
       "      <td>True</td>\n",
       "      <td>787</td>\n",
       "      <td>195</td>\n",
       "    </tr>\n",
       "  </tbody>\n",
       "</table>\n",
       "</div>"
      ],
      "text/plain": [
       "  iteration  can_change_lane  can_open_traffic  can_find_nearest_hospital  \\\n",
       "0       #16            False             False                      False   \n",
       "1        #6            False              True                      False   \n",
       "2        #3            False              True                      False   \n",
       "3       #21            False              True                      False   \n",
       "4       #23            False             False                       True   \n",
       "\n",
       "   number_of_vehicles  ambulance_arrival_time  \n",
       "0                 225                     186  \n",
       "1                 506                     302  \n",
       "2                 225                      95  \n",
       "3                 225                      93  \n",
       "4                 787                     195  "
      ]
     },
     "execution_count": 3,
     "metadata": {},
     "output_type": "execute_result"
    }
   ],
   "source": [
    "df.head()"
   ]
  },
  {
   "cell_type": "code",
   "execution_count": 4,
   "metadata": {},
   "outputs": [],
   "source": [
    "def give_simulation_name(df):\n",
    "    if df.can_change_lane and df.can_open_traffic and df.can_find_nearest_hospital:\n",
    "        df['name'] = 'RC'\n",
    "    if df.can_change_lane and not df.can_open_traffic and not df.can_find_nearest_hospital:\n",
    "        df['name'] = 'AP'\n",
    "    if not df.can_change_lane and df.can_open_traffic and not df.can_find_nearest_hospital:\n",
    "        df['name'] = 'AS'\n",
    "    if not df.can_change_lane and not df.can_open_traffic and df.can_find_nearest_hospital:\n",
    "        df['name'] = 'EH'\n",
    "    if not df.can_change_lane and not df.can_open_traffic and not df.can_find_nearest_hospital:\n",
    "        df['name'] = 'NA'\n",
    "    return df\n",
    "    \n",
    "df = df.apply(give_simulation_name, axis=1)"
   ]
  },
  {
   "cell_type": "markdown",
   "metadata": {},
   "source": [
    "## Calculate average arrival time by simulation type"
   ]
  },
  {
   "cell_type": "code",
   "execution_count": 5,
   "metadata": {},
   "outputs": [
    {
     "data": {
      "text/html": [
       "<div>\n",
       "<style scoped>\n",
       "    .dataframe tbody tr th:only-of-type {\n",
       "        vertical-align: middle;\n",
       "    }\n",
       "\n",
       "    .dataframe tbody tr th {\n",
       "        vertical-align: top;\n",
       "    }\n",
       "\n",
       "    .dataframe thead th {\n",
       "        text-align: right;\n",
       "    }\n",
       "</style>\n",
       "<table border=\"1\" class=\"dataframe\">\n",
       "  <thead>\n",
       "    <tr style=\"text-align: right;\">\n",
       "      <th></th>\n",
       "      <th></th>\n",
       "      <th>ambulance_arrival_time</th>\n",
       "    </tr>\n",
       "    <tr>\n",
       "      <th>name</th>\n",
       "      <th>number_of_vehicles</th>\n",
       "      <th></th>\n",
       "    </tr>\n",
       "  </thead>\n",
       "  <tbody>\n",
       "    <tr>\n",
       "      <th rowspan=\"3\" valign=\"top\">AP</th>\n",
       "      <th>225</th>\n",
       "      <td>143.250000</td>\n",
       "    </tr>\n",
       "    <tr>\n",
       "      <th>506</th>\n",
       "      <td>224.812500</td>\n",
       "    </tr>\n",
       "    <tr>\n",
       "      <th>787</th>\n",
       "      <td>222.193548</td>\n",
       "    </tr>\n",
       "    <tr>\n",
       "      <th rowspan=\"3\" valign=\"top\">AS</th>\n",
       "      <th>225</th>\n",
       "      <td>111.031250</td>\n",
       "    </tr>\n",
       "    <tr>\n",
       "      <th>506</th>\n",
       "      <td>149.625000</td>\n",
       "    </tr>\n",
       "    <tr>\n",
       "      <th>787</th>\n",
       "      <td>188.062500</td>\n",
       "    </tr>\n",
       "    <tr>\n",
       "      <th rowspan=\"3\" valign=\"top\">EH</th>\n",
       "      <th>225</th>\n",
       "      <td>199.937500</td>\n",
       "    </tr>\n",
       "    <tr>\n",
       "      <th>506</th>\n",
       "      <td>233.250000</td>\n",
       "    </tr>\n",
       "    <tr>\n",
       "      <th>787</th>\n",
       "      <td>274.125000</td>\n",
       "    </tr>\n",
       "    <tr>\n",
       "      <th rowspan=\"3\" valign=\"top\">NA</th>\n",
       "      <th>225</th>\n",
       "      <td>190.843750</td>\n",
       "    </tr>\n",
       "    <tr>\n",
       "      <th>506</th>\n",
       "      <td>257.062500</td>\n",
       "    </tr>\n",
       "    <tr>\n",
       "      <th>787</th>\n",
       "      <td>283.933333</td>\n",
       "    </tr>\n",
       "    <tr>\n",
       "      <th rowspan=\"3\" valign=\"top\">RC</th>\n",
       "      <th>225</th>\n",
       "      <td>78.781250</td>\n",
       "    </tr>\n",
       "    <tr>\n",
       "      <th>506</th>\n",
       "      <td>161.343750</td>\n",
       "    </tr>\n",
       "    <tr>\n",
       "      <th>787</th>\n",
       "      <td>235.468750</td>\n",
       "    </tr>\n",
       "  </tbody>\n",
       "</table>\n",
       "</div>"
      ],
      "text/plain": [
       "                         ambulance_arrival_time\n",
       "name number_of_vehicles                        \n",
       "AP   225                             143.250000\n",
       "     506                             224.812500\n",
       "     787                             222.193548\n",
       "AS   225                             111.031250\n",
       "     506                             149.625000\n",
       "     787                             188.062500\n",
       "EH   225                             199.937500\n",
       "     506                             233.250000\n",
       "     787                             274.125000\n",
       "NA   225                             190.843750\n",
       "     506                             257.062500\n",
       "     787                             283.933333\n",
       "RC   225                              78.781250\n",
       "     506                             161.343750\n",
       "     787                             235.468750"
      ]
     },
     "execution_count": 5,
     "metadata": {},
     "output_type": "execute_result"
    }
   ],
   "source": [
    "df.groupby(['name', 'number_of_vehicles']).mean().drop(['can_change_lane', 'can_open_traffic', 'can_find_nearest_hospital'], axis = 1)"
   ]
  },
  {
   "cell_type": "markdown",
   "metadata": {},
   "source": [
    "## Calculate average arrival time by number of vehicles"
   ]
  },
  {
   "cell_type": "code",
   "execution_count": 6,
   "metadata": {},
   "outputs": [
    {
     "data": {
      "text/html": [
       "<div>\n",
       "<style scoped>\n",
       "    .dataframe tbody tr th:only-of-type {\n",
       "        vertical-align: middle;\n",
       "    }\n",
       "\n",
       "    .dataframe tbody tr th {\n",
       "        vertical-align: top;\n",
       "    }\n",
       "\n",
       "    .dataframe thead th {\n",
       "        text-align: right;\n",
       "    }\n",
       "</style>\n",
       "<table border=\"1\" class=\"dataframe\">\n",
       "  <thead>\n",
       "    <tr style=\"text-align: right;\">\n",
       "      <th></th>\n",
       "      <th>ambulance_arrival_time</th>\n",
       "    </tr>\n",
       "    <tr>\n",
       "      <th>number_of_vehicles</th>\n",
       "      <th></th>\n",
       "    </tr>\n",
       "  </thead>\n",
       "  <tbody>\n",
       "    <tr>\n",
       "      <th>225</th>\n",
       "      <td>144.768750</td>\n",
       "    </tr>\n",
       "    <tr>\n",
       "      <th>506</th>\n",
       "      <td>205.218750</td>\n",
       "    </tr>\n",
       "    <tr>\n",
       "      <th>787</th>\n",
       "      <td>240.324841</td>\n",
       "    </tr>\n",
       "  </tbody>\n",
       "</table>\n",
       "</div>"
      ],
      "text/plain": [
       "                    ambulance_arrival_time\n",
       "number_of_vehicles                        \n",
       "225                             144.768750\n",
       "506                             205.218750\n",
       "787                             240.324841"
      ]
     },
     "execution_count": 6,
     "metadata": {},
     "output_type": "execute_result"
    }
   ],
   "source": [
    "df.groupby(['number_of_vehicles']).mean().drop(['can_change_lane', 'can_open_traffic', 'can_find_nearest_hospital'], axis = 1)"
   ]
  },
  {
   "cell_type": "code",
   "execution_count": 7,
   "metadata": {
    "scrolled": true
   },
   "outputs": [
    {
     "data": {
      "text/html": [
       "<div>\n",
       "<style scoped>\n",
       "    .dataframe tbody tr th:only-of-type {\n",
       "        vertical-align: middle;\n",
       "    }\n",
       "\n",
       "    .dataframe tbody tr th {\n",
       "        vertical-align: top;\n",
       "    }\n",
       "\n",
       "    .dataframe thead th {\n",
       "        text-align: right;\n",
       "    }\n",
       "</style>\n",
       "<table border=\"1\" class=\"dataframe\">\n",
       "  <thead>\n",
       "    <tr style=\"text-align: right;\">\n",
       "      <th></th>\n",
       "      <th>number_of_vehicles</th>\n",
       "      <th>ambulance_arrival_time</th>\n",
       "    </tr>\n",
       "  </thead>\n",
       "  <tbody>\n",
       "    <tr>\n",
       "      <th>count</th>\n",
       "      <td>477.000000</td>\n",
       "      <td>477.000000</td>\n",
       "    </tr>\n",
       "    <tr>\n",
       "      <th>mean</th>\n",
       "      <td>504.232704</td>\n",
       "      <td>196.496855</td>\n",
       "    </tr>\n",
       "    <tr>\n",
       "      <th>std</th>\n",
       "      <td>229.308181</td>\n",
       "      <td>106.387227</td>\n",
       "    </tr>\n",
       "    <tr>\n",
       "      <th>min</th>\n",
       "      <td>225.000000</td>\n",
       "      <td>48.000000</td>\n",
       "    </tr>\n",
       "    <tr>\n",
       "      <th>25%</th>\n",
       "      <td>225.000000</td>\n",
       "      <td>107.000000</td>\n",
       "    </tr>\n",
       "    <tr>\n",
       "      <th>50%</th>\n",
       "      <td>506.000000</td>\n",
       "      <td>188.000000</td>\n",
       "    </tr>\n",
       "    <tr>\n",
       "      <th>75%</th>\n",
       "      <td>787.000000</td>\n",
       "      <td>241.000000</td>\n",
       "    </tr>\n",
       "    <tr>\n",
       "      <th>max</th>\n",
       "      <td>787.000000</td>\n",
       "      <td>511.000000</td>\n",
       "    </tr>\n",
       "  </tbody>\n",
       "</table>\n",
       "</div>"
      ],
      "text/plain": [
       "       number_of_vehicles  ambulance_arrival_time\n",
       "count          477.000000              477.000000\n",
       "mean           504.232704              196.496855\n",
       "std            229.308181              106.387227\n",
       "min            225.000000               48.000000\n",
       "25%            225.000000              107.000000\n",
       "50%            506.000000              188.000000\n",
       "75%            787.000000              241.000000\n",
       "max            787.000000              511.000000"
      ]
     },
     "execution_count": 7,
     "metadata": {},
     "output_type": "execute_result"
    }
   ],
   "source": [
    "df.describe()"
   ]
  },
  {
   "cell_type": "markdown",
   "metadata": {},
   "source": [
    "# Analyzing the travel times for each vehicle density"
   ]
  },
  {
   "cell_type": "markdown",
   "metadata": {},
   "source": [
    "## 100 vehicles/km²"
   ]
  },
  {
   "cell_type": "code",
   "execution_count": 8,
   "metadata": {},
   "outputs": [
    {
     "data": {
      "image/png": "[encoded data removed]",
      "text/plain": [
       "<Figure size 432x288 with 1 Axes>"
      ]
     },
     "metadata": {
      "needs_background": "light"
     },
     "output_type": "display_data"
    }
   ],
   "source": [
    "# Create the bar graph using seaborn\n",
    "sns.set_style('whitegrid')\n",
    "sns.barplot(x='number_of_vehicles', y='ambulance_arrival_time', hue='name', data=df)\n",
    "\n",
    "# Add title and axis labels\n",
    "plt.title('Bar Graph Example')\n",
    "plt.xlabel('Items')\n",
    "plt.ylabel('Values')\n",
    "\n",
    "# Display the graph\n",
    "plt.show()"
   ]
  },
  {
   "cell_type": "code",
   "execution_count": 9,
   "metadata": {},
   "outputs": [
    {
     "data": {
      "image/png": "[encoded data removed]",
      "text/plain": [
       "<Figure size 432x288 with 1 Axes>"
      ]
     },
     "metadata": {},
     "output_type": "display_data"
    }
   ],
   "source": [
    "df_100 = df.drop(df[df.number_of_vehicles != 225].index)\n",
    "\n",
    "# Create the bar graph using seaborn\n",
    "sns.set_style('whitegrid')\n",
    "sns.barplot(x='name', y='ambulance_arrival_time', data=df_100)\n",
    "\n",
    "# Add title and axis labels\n",
    "plt.title('TTR para densidade de veículos 100 veículos/km²')\n",
    "plt.xlabel('Configuração')\n",
    "plt.ylabel('TTR (s)')\n",
    "\n",
    "# Display the graph\n",
    "plt.show()"
   ]
  },
  {
   "cell_type": "markdown",
   "metadata": {},
   "source": [
    "## 200 vehicles/km²"
   ]
  },
  {
   "cell_type": "code",
   "execution_count": 10,
   "metadata": {},
   "outputs": [
    {
     "data": {
      "image/png": "[encoded data removed]",
      "text/plain": [
       "<Figure size 432x288 with 1 Axes>"
      ]
     },
     "metadata": {},
     "output_type": "display_data"
    }
   ],
   "source": [
    "df_225 = df.drop(df[df.number_of_vehicles != 506].index)\n",
    "\n",
    "# Create the bar graph using seaborn\n",
    "sns.set_style('whitegrid')\n",
    "sns.barplot(x='name', y='ambulance_arrival_time', data=df_225)\n",
    "\n",
    "# Add title and axis labels\n",
    "plt.title('TTR para densidade de veículos 225 veículos/km²')\n",
    "plt.xlabel('Configuração')\n",
    "plt.ylabel('TTR (s)')\n",
    "\n",
    "# Display the graph\n",
    "plt.show()"
   ]
  },
  {
   "cell_type": "markdown",
   "metadata": {},
   "source": [
    "## 300 vehicles/km²"
   ]
  },
  {
   "cell_type": "code",
   "execution_count": 11,
   "metadata": {},
   "outputs": [
    {
     "data": {
      "image/png": "[encoded data removed]",
      "text/plain": [
       "<Figure size 432x288 with 1 Axes>"
      ]
     },
     "metadata": {},
     "output_type": "display_data"
    }
   ],
   "source": [
    "df_350 = df.drop(df[df.number_of_vehicles != 787].index)\n",
    "\n",
    "# Create the bar graph using seaborn\n",
    "sns.set_style('whitegrid')\n",
    "sns.barplot(x='name', y='ambulance_arrival_time', data=df_350)\n",
    "\n",
    "# Add title and axis labels\n",
    "plt.title('TTR para densidade de veículos 350 veículos/km²')\n",
    "plt.xlabel('Configuração')\n",
    "plt.ylabel('TTR (s)')\n",
    "\n",
    "# Display the graph\n",
    "plt.show()"
   ]
  },
  {
   "cell_type": "code",
   "execution_count": 12,
   "metadata": {},
   "outputs": [
    {
     "data": {
      "image/png": "[encoded data removed]",
      "text/plain": [
       "<Figure size 432x288 with 3 Axes>"
      ]
     },
     "metadata": {},
     "output_type": "display_data"
    }
   ],
   "source": [
    "sns.set(font_scale = 1)\n",
    "fig, axes = plt.subplots(1, 3, sharey=False)\n",
    "# fig.suptitle('Time spent in each iteration', size = 60)\n",
    "# fig.tight_layout(h_pad = 8, w_pad = 2)\n",
    "\n",
    "for i, density in enumerate(df['number_of_vehicles'].unique()):\n",
    "    ax = sns.barplot(data=df[df['number_of_vehicles'] == density], x='name', y='ambulance_arrival_time', palette = 'colorblind')\n",
    "    ax.set(xlabel=density, ylabel='TTR (s)')\n",
    "\n",
    "plt.show()"
   ]
  },
  {
   "cell_type": "markdown",
   "metadata": {},
   "source": [
    "# sns.set(font_scale = 5)\n",
    "fig, axes = plt.subplots(1, 3, figsize=(80,60), sharey=False)\n",
    "fig.suptitle('Time spent in each iteration', size = 60)\n",
    "fig.tight_layout(h_pad = 8, w_pad = 2)\n",
    "\n",
    "for i, density in enumerate(df['number_of_vehicles'].unique()):\n",
    "    ax = sns.barplot(data=df[df['number_of_vehicles'] == density], x='name', y='ambulance_arrival_time', ax = axes[i//3, i%3], palette = 'colorblind')\n",
    "    ax.set(xlabel=query, ylabel='Time Spent (ms)')\n",
    "\n",
    "plt.show()"
   ]
  },
  {
   "cell_type": "code",
   "execution_count": 13,
   "metadata": {},
   "outputs": [
    {
     "data": {
      "text/plain": [
       "1"
      ]
     },
     "execution_count": 13,
     "metadata": {},
     "output_type": "execute_result"
    }
   ],
   "source": [
    "4 // 3"
   ]
  },
  {
   "cell_type": "code",
   "execution_count": 14,
   "metadata": {},
   "outputs": [],
   "source": [
    "?sns.barplot"
   ]
  },
  {
   "cell_type": "code",
   "execution_count": null,
   "metadata": {},
   "outputs": [],
   "source": []
  }
 ],
 "metadata": {
  "kernelspec": {
   "display_name": "Python 3",
   "language": "python",
   "name": "python3"
  },
  "language_info": {
   "codemirror_mode": {
    "name": "ipython",
    "version": 3
   },
   "file_extension": ".py",
   "mimetype": "text/x-python",
   "name": "python",
   "nbconvert_exporter": "python",
   "pygments_lexer": "ipython3",
   "version": "3.7.6"
  }
 },
 "nbformat": 4,
 "nbformat_minor": 4
}
